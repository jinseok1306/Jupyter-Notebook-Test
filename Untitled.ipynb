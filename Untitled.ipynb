{
 "cells": [
  {
   "cell_type": "code",
   "execution_count": 5,
   "id": "d2cba81a",
   "metadata": {},
   "outputs": [
    {
     "name": "stdout",
     "output_type": "stream",
     "text": [
      "123\n"
     ]
    }
   ],
   "source": [
    "a = 123\n",
    "print(a)"
   ]
  },
  {
   "cell_type": "code",
   "execution_count": 6,
   "id": "45215d5a",
   "metadata": {},
   "outputs": [
    {
     "name": "stdout",
     "output_type": "stream",
     "text": [
      "python\n"
     ]
    }
   ],
   "source": [
    "b = 'python'\n",
    "print(b)"
   ]
  },
  {
   "cell_type": "code",
   "execution_count": 7,
   "id": "e00f857b",
   "metadata": {},
   "outputs": [
    {
     "name": "stdout",
     "output_type": "stream",
     "text": [
      "1.24\n"
     ]
    }
   ],
   "source": [
    "c = 1.24\n",
    "print(c)"
   ]
  },
  {
   "cell_type": "code",
   "execution_count": 8,
   "id": "406d677a",
   "metadata": {},
   "outputs": [
    {
     "name": "stdout",
     "output_type": "stream",
     "text": [
      "World\n"
     ]
    }
   ],
   "source": [
    "c = 'World'\n",
    "print(c)"
   ]
  },
  {
   "cell_type": "code",
   "execution_count": 9,
   "id": "c47f1f81",
   "metadata": {},
   "outputs": [
    {
     "name": "stdout",
     "output_type": "stream",
     "text": [
      "[1, 2, 3]\n",
      "['a', 'b', 'c']\n",
      "[1, 'asd', 3]\n"
     ]
    }
   ],
   "source": [
    "a = [1,2,3]\n",
    "b = ['a','b','c']\n",
    "c = [1, 'asd', 3]\n",
    "print(a)\n",
    "print(b)\n",
    "print(c)"
   ]
  },
  {
   "cell_type": "code",
   "execution_count": 1,
   "id": "ff6b052d",
   "metadata": {},
   "outputs": [
    {
     "name": "stdout",
     "output_type": "stream",
     "text": [
      "0\n",
      "1\n",
      "2\n",
      "3\n",
      "4\n",
      "5\n",
      "6\n",
      "7\n",
      "8\n",
      "9\n"
     ]
    }
   ],
   "source": [
    "for i in range(10):\n",
    "    print(i)"
   ]
  },
  {
   "cell_type": "code",
   "execution_count": 2,
   "id": "41d01991",
   "metadata": {},
   "outputs": [
    {
     "name": "stdout",
     "output_type": "stream",
     "text": [
      "30\n"
     ]
    }
   ],
   "source": [
    "a =10\n",
    "b=20\n",
    "print(a+b)"
   ]
  },
  {
   "cell_type": "code",
   "execution_count": 3,
   "id": "e9f112d8",
   "metadata": {},
   "outputs": [
    {
     "name": "stdout",
     "output_type": "stream",
     "text": [
      "203\n",
      "217\n",
      "224\n",
      "231\n",
      "238\n",
      "252\n",
      "259\n",
      "266\n",
      "273\n",
      "287\n",
      "294\n"
     ]
    }
   ],
   "source": [
    "## 리스트 myList 선언\n",
    "myList=[]\n",
    "\n",
    "## 200이상 301 미만의 수\n",
    "for x in range(200,301):\n",
    "    if x%7==0 and x%5!=0:\n",
    "        myList.append(x)\n",
    "\n",
    "for x in myList:\n",
    "    print(x)"
   ]
  },
  {
   "cell_type": "code",
   "execution_count": 5,
   "id": "e0e2055d",
   "metadata": {},
   "outputs": [
    {
     "name": "stdout",
     "output_type": "stream",
     "text": [
      "10\n",
      "5\n",
      "1\n",
      "8\n",
      "5\n",
      "15\n",
      "0\n",
      "(1, 3)\n"
     ]
    }
   ],
   "source": [
    "print(abs(-10)) # 절대값\n",
    "print(max(1,2,3,4,5)) #최대값\n",
    "print(min(1,2,3,4,5)) #최소값\n",
    "print(pow(2,3)) #제곱\n",
    "print(round(5.18)) #반올림\n",
    "print(sum([1,2,3,4,5])) #합계\n",
    "print(sum([],0)) #합게가 비어있을 경우 기본값을 출력\n",
    "print(divmod(10,7)) #몫과 나머지"
   ]
  },
  {
   "cell_type": "code",
   "execution_count": 6,
   "id": "5e0e2b04",
   "metadata": {},
   "outputs": [
    {
     "name": "stdout",
     "output_type": "stream",
     "text": [
      "5\n",
      "6\n",
      "6.0\n"
     ]
    }
   ],
   "source": [
    "from math import *\n",
    "print(floor(5.678)) #버림\n",
    "print(ceil(5.678)) #올림\n",
    "print(sqrt(36)) #제곱근구하기"
   ]
  },
  {
   "cell_type": "code",
   "execution_count": 7,
   "id": "fe95c877",
   "metadata": {},
   "outputs": [
    {
     "name": "stdout",
     "output_type": "stream",
     "text": [
      "0.33173958917237034\n",
      "9.113316714926615\n",
      "89\n",
      "99\n",
      "8\n",
      "93\n",
      "1\n",
      "28\n"
     ]
    }
   ],
   "source": [
    "from random import *\n",
    "print(random()) # 0.0~1.0 미만 랜덤 출력\n",
    "print(random()*10) #0.0~10.0미만 랜덤 출력\n",
    "print(int(random()*100)) #0~100미만 랜덤 출력\n",
    "print(int(random()*100)+1) #1~100.0 미만 랜덤 출력\n",
    "print(randrange(1,15)) #1~15미만 랜덤 출력\n",
    "print(randrange(1,150)) # 1~150미만 랜덤 출력\n",
    "print(randint(1,15)) # 1~15이하 랜덤 출력\n",
    "print(randint(1,150)) # 1~150이하 랜덤 출력"
   ]
  },
  {
   "cell_type": "code",
   "execution_count": 8,
   "id": "2f52383c",
   "metadata": {},
   "outputs": [
    {
     "name": "stdout",
     "output_type": "stream",
     "text": [
      "우리나리\n",
      "자랑스런\n",
      "대한민국대한민국대한민국대한민국대한민국대한민국\n"
     ]
    }
   ],
   "source": [
    "print(\"우리나리\")\n",
    "print('자랑스런')\n",
    "print(\"대한민국\"*6)"
   ]
  },
  {
   "cell_type": "code",
   "execution_count": 9,
   "id": "0c7ce9af",
   "metadata": {},
   "outputs": [
    {
     "name": "stdout",
     "output_type": "stream",
     "text": [
      "코로나가9개월째 전세계를 뒤흔들고 있습니다.\n",
      "대한민국은코로나로 부터 안전해지기 위해 최대한 노력을 하고 있습니다.\n",
      "대한민국에서코로나를 물리쳐내기 위해 함께 노력 하시겠습니까?\n"
     ]
    }
   ],
   "source": [
    "nation = \"대한민국\"\n",
    "virus = \"코로나\"\n",
    "month=9\n",
    "\n",
    "print(virus+\"가\"+str(month)+\"개월째 전세계를 뒤흔들고 있습니다.\")\n",
    "print(nation+\"은\"+virus+\"로 부터 안전해지기 위해 최대한 노력을 하고 있습니다.\")\n",
    "print(nation+\"에서\"+virus+\"를 물리쳐내기 위해 함께 노력 하시겠습니까?\")"
   ]
  },
  {
   "cell_type": "code",
   "execution_count": 10,
   "id": "d4e2f99c",
   "metadata": {},
   "outputs": [
    {
     "name": "stdout",
     "output_type": "stream",
     "text": [
      "True\n",
      "False\n",
      "True\n",
      "True\n",
      "False\n",
      "True\n",
      "True\n"
     ]
    }
   ],
   "source": [
    "print(4>=3)\n",
    "print(2>10)\n",
    "print(7>=7)\n",
    "print(5==5)\n",
    "print(8==2)\n",
    "print(2!=8)\n",
    "print(3+2==5)"
   ]
  },
  {
   "cell_type": "code",
   "execution_count": 11,
   "id": "7d6a0549",
   "metadata": {},
   "outputs": [
    {
     "name": "stdout",
     "output_type": "stream",
     "text": [
      "True\n",
      "True\n",
      "True\n",
      "True\n",
      "True\n",
      "False\n"
     ]
    }
   ],
   "source": [
    "print((1>0) and (3==1+2))\n",
    "print((1>0) & (3==1+2))\n",
    "\n",
    "print((2>0) or (1==3))\n",
    "print((2>0) | (1==3))\n",
    "\n",
    "print(1<2<3)\n",
    "print(1<2>3)"
   ]
  },
  {
   "cell_type": "code",
   "execution_count": 12,
   "id": "3e88a66d",
   "metadata": {},
   "outputs": [
    {
     "name": "stdout",
     "output_type": "stream",
     "text": [
      "False\n",
      "True\n",
      "False\n"
     ]
    }
   ],
   "source": [
    "print(not(2!=8))\n",
    "print(not(1+3!=4))\n",
    "print(not(5==5))"
   ]
  },
  {
   "cell_type": "code",
   "execution_count": 13,
   "id": "90d63c14",
   "metadata": {},
   "outputs": [
    {
     "name": "stdout",
     "output_type": "stream",
     "text": [
      "안녕하세요\n",
      "파이썬을 공부하는 DBA입니다.\n",
      "안녕하세요.\n",
      "저는 파이썬을 공부하는 DBA입니다.\n",
      "\n",
      "안녕하세요.\n",
      "저는 파이썬을 공부하는 DBA입니다.\n",
      "\n"
     ]
    }
   ],
   "source": [
    "str1='안녕하세요'\n",
    "str2='파이썬을 공부하는 DBA입니다.'\n",
    "print(str1)\n",
    "print(str2)\n",
    "str3=\"\"\"안녕하세요.\n",
    "저는 파이썬을 공부하는 DBA입니다.\"\"\"\n",
    "print(str3)\n",
    "str4=\"\"\"\n",
    "안녕하세요.\n",
    "저는 파이썬을 공부하는 DBA입니다.\n",
    "\"\"\"\n",
    "\n",
    "print(str4)"
   ]
  },
  {
   "cell_type": "code",
   "execution_count": 15,
   "id": "50d3a613",
   "metadata": {},
   "outputs": [
    {
     "name": "stdout",
     "output_type": "stream",
     "text": [
      "다\n",
      "마\n",
      "출생년도는1983년 입니다.\n",
      "출생월은 03월 입니다.\n",
      "출생일은 19일입니다.\n",
      "저의 생년 월일은19830319 입니다.\n"
     ]
    }
   ],
   "source": [
    "num=\"가나다라마\"\n",
    "print(num[2]) #num 변수의 2번지, 즉 세번째 문자 출력\n",
    "print(num[4]) #num 변수의 4번지, 즉 다섯번째 문자 출력\n",
    "\n",
    "birth_date = \"19830319\"\n",
    "print(\"출생년도는\" + birth_date[0:4] + \"년 입니다.\") #birth_date의 0번지 부터 4번지 직전까지를 출력\n",
    "print(\"출생월은 \" + birth_date[4:6] + \"월 입니다.\") #birth_date의 4번지 로부터 6번지 직전까지를 출력\n",
    "print(\"출생일은 \" + birth_date[6:8] + \"일입니다.\") #birth_date의 6번지 로부터 8번지 직전까지를 출력\n",
    "print(\"저의 생년 월일은\" + birth_date[:8] + \" 입니다.\") #birth_date의 처음부터 마지막 8번째 직전까지를 출력"
   ]
  },
  {
   "cell_type": "code",
   "execution_count": 16,
   "id": "47c7a9d1",
   "metadata": {},
   "outputs": [
    {
     "name": "stdout",
     "output_type": "stream",
     "text": [
      "출생년도는 1983년 입니다.\n",
      "저의 생년월일은 19830319 입니다.\n"
     ]
    }
   ],
   "source": [
    "birth_date = \"19830319\"\n",
    "print(\"출생년도는 \" + birth_date[-8:-4] + \"년 입니다.\") #birth_date의 뒤에서 8번째 앞부터 뒤에서 4번째까지 출력\n",
    "print(\"저의 생년월일은 \" + birth_date[-8:] + \" 입니다.\") #birth_date의 뒤에서 8번쨰 로부터 마지막까지를 출력"
   ]
  },
  {
   "cell_type": "code",
   "execution_count": 20,
   "id": "76d10255",
   "metadata": {},
   "outputs": [
    {
     "name": "stdout",
     "output_type": "stream",
     "text": [
      "한일월드컵은 2020년에 개최 되었다.\n",
      "대한민국 축구대표팀 에이스는 손흥민선수이다.\n",
      "축구국가대표팀은 A대표팀이라고 부른다.\n",
      "저의 취미는 축구와 골프입니다.\n"
     ]
    }
   ],
   "source": [
    "print(\"한일월드컵은 %d년에 개최 되었다.\" % 2020)\n",
    "print(\"대한민국 축구대표팀 에이스는 %s선수이다.\" % \"손흥민\")\n",
    "print(\"축구국가대표팀은 %c대표팀이라고 부른다.\" % \"A\")\n",
    "print(\"저의 취미는 %s와 %s입니다.\" % (\"축구\",\"골프\"))"
   ]
  },
  {
   "cell_type": "code",
   "execution_count": 24,
   "id": "81d9a6d7",
   "metadata": {},
   "outputs": [
    {
     "name": "stdout",
     "output_type": "stream",
     "text": [
      "저의 취미는 축구와 골프 입니다.\n",
      "저의 취미는 축구과 골프 입니다.\n",
      "저의 취미는 골프와 축구 입니다.\n",
      "저의 취미는 축구와 골프 입니다.\n",
      "저의 취미는 당구와 골프 입니다.\n"
     ]
    }
   ],
   "source": [
    "print(\"저의 취미는 {}와 {} 입니다.\" .format(\"축구\",\"골프\"))\n",
    "print(\"저의 취미는 {0}과 {1} 입니다.\" .format(\"축구\",\"골프\"))\n",
    "print(\"저의 취미는 {1}와 {0} 입니다.\" .format(\"축구\",\"골프\"))\n",
    "print(\"저의 취미는 {hb1}와 {hb2} 입니다.\" .format(hb1=\"축구\",hb2=\"골프\",hb3=\"당구\"))\n",
    "print(\"저의 취미는 {hb3}와 {hb2} 입니다.\" .format(hb1=\"축구\",hb2=\"골프\",hb3=\"당구\"))"
   ]
  },
  {
   "cell_type": "code",
   "execution_count": 25,
   "id": "9b1a7ca1",
   "metadata": {},
   "outputs": [
    {
     "name": "stdout",
     "output_type": "stream",
     "text": [
      "저의 취미는 골프와 당구 입니다.\n"
     ]
    }
   ],
   "source": [
    "hb1 = \"골프\"\n",
    "hb2 = \"당구\"\n",
    "print(f\"저의 취미는 {hb1}와 {hb2} 입니다.\")"
   ]
  },
  {
   "cell_type": "code",
   "execution_count": 26,
   "id": "0e4360d2",
   "metadata": {},
   "outputs": [
    {
     "name": "stdout",
     "output_type": "stream",
     "text": [
      "korea's technology is the best in the world.\n",
      "KOREA'S TECHNOLOGY IS THE BEST IN THE WORLD.\n",
      "Korea's football is the best in the world.\n",
      "44\n",
      "42\n",
      "20\n",
      "32\n",
      "8\n",
      "-1\n",
      "3\n"
     ]
    }
   ],
   "source": [
    "str_a = \"Korea's technology is the best in the world.\"\n",
    "print(str_a.lower()) #소문자로 바꾸기\n",
    "print(str_a.upper()) #대문자로 바꾸기\n",
    "print(str_a.replace(\"technology\",\"football\")) #문자열 치환하기\n",
    "print(len(str_a)) #문자열 길이 출력\n",
    "str_b = str_a.replace(\"technology\", \"football\") #str_b에 str_a에서 치환한 결과를 저장하기\n",
    "print(len(str_b)) #str_b의 문자열 길이 출력\n",
    "print(str_b.index(\"the\")) #str_b에서 the 문자열의 위치를 반환 받기\n",
    "print(str_b.index(\"the\",str_b.index(\"the\") + 1)) #첫번째 str_b에서 i 문자열을 위치에서 다음 i의 위치를 반환하기\n",
    "print(str_b.find(\"football\")) # str_b에서 football 문자열을 찾아서 시작 위치를 반환 받기\n",
    "print(str_a.find(\"football\")) # str_a에서 football 문자열을 찾아서 시작 위치를 반환 받기\n",
    "print(str_a.count(\"s\"))"
   ]
  },
  {
   "cell_type": "code",
   "execution_count": 27,
   "id": "eddd6d1f",
   "metadata": {},
   "outputs": [
    {
     "name": "stdout",
     "output_type": "stream",
     "text": [
      "aaa\n",
      "bbb\n",
      "aa\"an\"bb\n",
      "aaa\r",
      "bbb\n",
      "aaa\tbbb\n",
      "aaa\bbbb\n",
      "C:\\Windows\\Fonts\n"
     ]
    }
   ],
   "source": [
    "print(\"aaa\\nbbb\") # \\n 줄바꿈\n",
    "print(\"aa\\\"an\\\"bb\") # \\\"문자열 내부에서 \"출력\n",
    "print(\"aaa\\rbbb\") # \\r 커서 위치를 문자열 가장 앞으로 변경\n",
    "print(\"aaa\\tbbb\") # \\t 탭을 삽입\n",
    "print(\"aaa\\bbbb\") # \\b 백스페이스를 삽입\n",
    "print(\"C:\\\\Windows\\\\Fonts\") # \\\\ 두번 입력 시 \\로 출력"
   ]
  },
  {
   "cell_type": "code",
   "execution_count": 28,
   "id": "ed13d4e6",
   "metadata": {},
   "outputs": [
    {
     "name": "stdout",
     "output_type": "stream",
     "text": [
      "['골프', '축구']\n",
      "[1, 3, 5, 7, 9, 11]\n",
      "['골프', 70, False]\n"
     ]
    }
   ],
   "source": [
    "# 리스트 생성\n",
    "my_hobby = [\"골프\",\"축구\"]\n",
    "my_number = [1,3,5,7,9,11]\n",
    "my_profile = [\"골프\",70,False]\n",
    "print(my_hobby)\n",
    "print(my_number)\n",
    "print(my_profile)"
   ]
  },
  {
   "cell_type": "code",
   "execution_count": 29,
   "id": "8f310b30",
   "metadata": {},
   "outputs": [
    {
     "name": "stdout",
     "output_type": "stream",
     "text": [
      "['골프', '축구']\n",
      "[1, 3, 5, 7, 9, 11]\n",
      "1\n",
      "1\n"
     ]
    }
   ],
   "source": [
    "#리스트 인덱스 출력\n",
    "print(my_hobby)\n",
    "print(my_number)\n",
    "print(my_hobby.index(\"축구\"))\n",
    "print(my_number.index(3))"
   ]
  },
  {
   "cell_type": "code",
   "execution_count": 30,
   "id": "5d56cfee",
   "metadata": {},
   "outputs": [
    {
     "name": "stdout",
     "output_type": "stream",
     "text": [
      "['골프', '축구']\n",
      "['골프', '축구', '자전거']\n",
      "['골프', '축구', '자전거', '독서', '레고조립']\n"
     ]
    }
   ],
   "source": [
    "my_hobby=[\"골프\",\"축구\"]\n",
    "print(my_hobby)\n",
    "\n",
    "my_hobby.append(\"자전거\")\n",
    "print(my_hobby)\n",
    "\n",
    "# 리스트 추가2\n",
    "my_hobby+=[\"독서\",\"레고조립\"] # + 연산자로 넣기\n",
    "print(my_hobby)"
   ]
  },
  {
   "cell_type": "code",
   "execution_count": 31,
   "id": "4b630286",
   "metadata": {},
   "outputs": [
    {
     "name": "stdout",
     "output_type": "stream",
     "text": [
      "['골프', '넷플릭스', '축구', '자전거', '독서', '레고조립']\n",
      "['골프', '넷플릭스', '축구', '넷플릭스', '자전거', '독서', '레고조립']\n"
     ]
    }
   ],
   "source": [
    "#리스트 중간 삽입\n",
    "my_hobby.insert(1,\"넷플릭스\")\n",
    "print(my_hobby)\n",
    "\n",
    "my_hobby.insert(3,\"넷플릭스\")\n",
    "print(my_hobby)"
   ]
  },
  {
   "cell_type": "code",
   "execution_count": 32,
   "id": "5b8cc611",
   "metadata": {},
   "outputs": [
    {
     "name": "stdout",
     "output_type": "stream",
     "text": [
      "['골프', '넷플릭스', '축구', '넷플릭스', '자전거', '독서', '레고조립']\n",
      "['골프', '넷플릭스', '축구', '넷플릭스', '자전거', '독서']\n",
      "['골프', '넷플릭스', '축구', '넷플릭스', '독서']\n",
      "['골프', '넷플릭스', '넷플릭스', '독서']\n"
     ]
    }
   ],
   "source": [
    "# my_hobby 리스트 출력\n",
    "print(my_hobby)\n",
    "\n",
    "# 리스트 가장 뒤쪽에서 하나 삭제\n",
    "my_hobby.pop()\n",
    "print(my_hobby)\n",
    "\n",
    "# 리스트 인덱스를 이용하여 삭제\n",
    "del my_hobby[4]\n",
    "print(my_hobby)\n",
    "\n",
    "# 리스트 데이터를 조회하여 삭제\n",
    "del my_hobby[my_hobby.index(\"축구\")]\n",
    "print(my_hobby)"
   ]
  },
  {
   "cell_type": "code",
   "execution_count": 33,
   "id": "22681ea0",
   "metadata": {},
   "outputs": [
    {
     "name": "stdout",
     "output_type": "stream",
     "text": [
      "['골프', '넷플릭스', '넷플릭스', '독서']\n",
      "2\n",
      "1\n"
     ]
    }
   ],
   "source": [
    "print(my_hobby)\n",
    "print(my_hobby.count(\"넷플릭스\"))\n",
    "print(my_hobby.count(\"골프\"))"
   ]
  },
  {
   "cell_type": "code",
   "execution_count": 34,
   "id": "01b4aa4d",
   "metadata": {},
   "outputs": [
    {
     "name": "stdout",
     "output_type": "stream",
     "text": [
      "['골프', '넷플릭스', '넷플릭스', '독서']\n",
      "['골프', '넷플릭스', '넷플릭스', '독서']\n",
      "['독서', '넷플릭스', '넷플릭스', '골프']\n",
      "['골프', '넷플릭스', '넷플릭스', '독서']\n"
     ]
    }
   ],
   "source": [
    "# 리스트내 데이터 정렬 하기\n",
    "print(my_hobby)\n",
    "my_hobby.sort() #오름차순 정렬\n",
    "print(my_hobby)\n",
    "\n",
    "my_hobby.sort(reverse=True) # 내림차순 정렬\n",
    "print(my_hobby)\n",
    "\n",
    "my_hobby.reverse() # 리스트내 데이터 순서 뒤집기 (정렬아님)\n",
    "print(my_hobby)"
   ]
  },
  {
   "cell_type": "code",
   "execution_count": 35,
   "id": "31cc4a99",
   "metadata": {},
   "outputs": [
    {
     "name": "stdout",
     "output_type": "stream",
     "text": [
      "['골프', '넷플릭스', '넷플릭스', '독서']\n",
      "[]\n"
     ]
    }
   ],
   "source": [
    "# 리스트내 모든 데이터 삭제하기\n",
    "print(my_hobby)\n",
    "my_hobby.clear()\n",
    "print(my_hobby)"
   ]
  },
  {
   "cell_type": "code",
   "execution_count": 36,
   "id": "0f63b78c",
   "metadata": {},
   "outputs": [
    {
     "name": "stdout",
     "output_type": "stream",
     "text": [
      "[1, 2, 3]\n",
      "['손흥민', '차범근', '박지성']\n",
      "[1, 2, 3, '손흥민', '차범근', '박지성']\n"
     ]
    }
   ],
   "source": [
    "my_list1=[1,2,3]\n",
    "my_list2=[\"손흥민\",\"차범근\",\"박지성\"]\n",
    "\n",
    "print(my_list1)\n",
    "print(my_list2)\n",
    "\n",
    "#리스트 합치기\n",
    "my_list1.extend(my_list2)\n",
    "print(my_list1)"
   ]
  },
  {
   "cell_type": "code",
   "execution_count": 37,
   "id": "568f13c0",
   "metadata": {},
   "outputs": [
    {
     "name": "stdout",
     "output_type": "stream",
     "text": [
      "에디\n",
      "크롬\n",
      "뽀로로\n",
      "크롬\n"
     ]
    }
   ],
   "source": [
    "class_num={1:\"뽀로로\",2:\"에디\",3:\"크롬\"}\n",
    "print(class_num[2])\n",
    "print(class_num[3])\n",
    "\n",
    "print(class_num.get(1))\n",
    "print(class_num.get(3))"
   ]
  },
  {
   "cell_type": "code",
   "execution_count": 38,
   "id": "f903ea16",
   "metadata": {},
   "outputs": [
    {
     "ename": "KeyError",
     "evalue": "8",
     "output_type": "error",
     "traceback": [
      "\u001b[1;31m---------------------------------------------------------------------------\u001b[0m",
      "\u001b[1;31mKeyError\u001b[0m                                  Traceback (most recent call last)",
      "Input \u001b[1;32mIn [38]\u001b[0m, in \u001b[0;36m<cell line: 1>\u001b[1;34m()\u001b[0m\n\u001b[1;32m----> 1\u001b[0m \u001b[38;5;28mprint\u001b[39m(\u001b[43mclass_num\u001b[49m\u001b[43m[\u001b[49m\u001b[38;5;241;43m8\u001b[39;49m\u001b[43m]\u001b[49m)\n\u001b[0;32m      2\u001b[0m \u001b[38;5;28mprint\u001b[39m(\u001b[38;5;124m\"\u001b[39m\u001b[38;5;124mpython\u001b[39m\u001b[38;5;124m\"\u001b[39m)\n",
      "\u001b[1;31mKeyError\u001b[0m: 8"
     ]
    }
   ],
   "source": [
    "print(class_num[8])\n",
    "print(\"python\")"
   ]
  },
  {
   "cell_type": "code",
   "execution_count": 39,
   "id": "6c2e6cf3",
   "metadata": {},
   "outputs": [
    {
     "name": "stdout",
     "output_type": "stream",
     "text": [
      "None\n",
      "python\n"
     ]
    }
   ],
   "source": [
    "print(class_num.get(8)) #프로그램 종료되지 않고 none을 출력\n",
    "print(\"python\")"
   ]
  },
  {
   "cell_type": "code",
   "execution_count": 40,
   "id": "5c4a35d1",
   "metadata": {},
   "outputs": [
    {
     "name": "stdout",
     "output_type": "stream",
     "text": [
      "로디\n",
      "크롬\n",
      "python\n"
     ]
    }
   ],
   "source": [
    "print(class_num.get(8,\"로디\")) #딕셔너리에 없는 key를 호출 시 기본값을 주어 none 대신 출력이 가능하게 할 수 있음\n",
    "print(class_num.get(3,\"로디\")) #딕셔너리에 있는 key를 호출시에는 기본값을 출력되지 않고, key에 대응되는 value가 출력됨.\n",
    "print(\"python\")"
   ]
  },
  {
   "cell_type": "code",
   "execution_count": 41,
   "id": "57ac1837",
   "metadata": {},
   "outputs": [
    {
     "name": "stdout",
     "output_type": "stream",
     "text": [
      "True\n",
      "False\n"
     ]
    }
   ],
   "source": [
    "print(2 in class_num) #딕셔너리에 있는 키를 넣으면 true가 출력\n",
    "print(7 in class_num) #딕셔너리에 없는 키를 넣으면 false가 출력"
   ]
  },
  {
   "cell_type": "code",
   "execution_count": 43,
   "id": "4c7ff247",
   "metadata": {},
   "outputs": [
    {
     "name": "stdout",
     "output_type": "stream",
     "text": [
      "뽀로로\n",
      "에디\n",
      "{'A': '뽀로로', 'B': '에디', 'C': '크롬'}\n",
      "타요\n",
      "로키\n",
      "{'AA001': '타요', 'BB001': '로키', 'CC001': '가니'}\n"
     ]
    }
   ],
   "source": [
    "class_num = {\"A\":\"뽀로로\",\"B\":\"에디\",\"C\":\"크롬\"}\n",
    "print(class_num.get(\"A\"))\n",
    "print(class_num.get(\"B\"))\n",
    "print(class_num)\n",
    "\n",
    "class_num2 = {\"AA001\":\"타요\", \"BB001\":\"로키\",\"CC001\":\"가니\"}\n",
    "print(class_num2.get(\"AA001\"))\n",
    "print(class_num2.get(\"BB001\"))\n",
    "print(class_num2)"
   ]
  },
  {
   "cell_type": "code",
   "execution_count": 44,
   "id": "84c48489",
   "metadata": {},
   "outputs": [
    {
     "name": "stdout",
     "output_type": "stream",
     "text": [
      "{'A': '뽀로로', 'B': '에디', 'C': '크롬'}\n",
      "{'A': '뽀로로', 'B': '에디'}\n"
     ]
    }
   ],
   "source": [
    "print(class_num)\n",
    "del class_num[\"C\"]\n",
    "print(class_num)"
   ]
  },
  {
   "cell_type": "code",
   "execution_count": 45,
   "id": "117a956f",
   "metadata": {},
   "outputs": [
    {
     "name": "stdout",
     "output_type": "stream",
     "text": [
      "{'A': '뽀로로', 'B': '에디'}\n",
      "dict_keys(['A', 'B'])\n",
      "dict_values(['뽀로로', '에디'])\n",
      "dict_items([('A', '뽀로로'), ('B', '에디')])\n"
     ]
    }
   ],
   "source": [
    "print(class_num)\n",
    "print(class_num.keys()) #key만 출력하기\n",
    "print(class_num.values()) #value만 출력하기\n",
    "print(class_num.items()) #모두 출력하기"
   ]
  },
  {
   "cell_type": "code",
   "execution_count": 46,
   "id": "d2f171af",
   "metadata": {},
   "outputs": [
    {
     "name": "stdout",
     "output_type": "stream",
     "text": [
      "{'A': ['뽀로로', '팽귄'], 'B': ['에디', '사막여우'], 'C': ['크롬', '공룡']}\n"
     ]
    }
   ],
   "source": [
    "class_num = {\"A\":[\"뽀로로\",\"팽귄\"],\"B\":[\"에디\",\"사막여우\"],\"C\":[\"크롬\",\"공룡\"]}\n",
    "print(class_num)"
   ]
  },
  {
   "cell_type": "code",
   "execution_count": 48,
   "id": "20ff0bb8",
   "metadata": {},
   "outputs": [
    {
     "name": "stdout",
     "output_type": "stream",
     "text": [
      "{}\n"
     ]
    }
   ],
   "source": [
    "class_num.clear()\n",
    "print(class_num)"
   ]
  },
  {
   "cell_type": "code",
   "execution_count": 50,
   "id": "539e915c",
   "metadata": {},
   "outputs": [
    {
     "name": "stdout",
     "output_type": "stream",
     "text": [
      "{'A': '에디', 'C': '크롬'}\n"
     ]
    }
   ],
   "source": [
    "class_num={\"A\":\"뽀로로\",\"A\":\"에디\",\"C\":\"크롬\"}\n",
    "print(class_num)"
   ]
  },
  {
   "cell_type": "code",
   "execution_count": 51,
   "id": "7c24b309",
   "metadata": {},
   "outputs": [
    {
     "name": "stdout",
     "output_type": "stream",
     "text": [
      "('엄마', '아빠', '형', '동생')\n",
      "형\n"
     ]
    }
   ],
   "source": [
    "family = (\"엄마\",\"아빠\",\"형\",\"동생\")\n",
    "print(family)\n",
    "print(family[2])"
   ]
  },
  {
   "cell_type": "code",
   "execution_count": 52,
   "id": "0b903a87",
   "metadata": {},
   "outputs": [
    {
     "name": "stdout",
     "output_type": "stream",
     "text": [
      "손흥민 7 Tottenham Hotspur\n"
     ]
    }
   ],
   "source": [
    "player=\"손흥민\"\n",
    "back_num=7\n",
    "team=\"Tottenham Hotspur\"\n",
    "\n",
    "print(player,back_num,team)"
   ]
  },
  {
   "cell_type": "code",
   "execution_count": 53,
   "id": "c726b0b1",
   "metadata": {},
   "outputs": [
    {
     "name": "stdout",
     "output_type": "stream",
     "text": [
      "손흥민 7 Tottenham Hotspur\n",
      "손흥민 7\n"
     ]
    }
   ],
   "source": [
    "(player,back_num,team) = (\"손흥민\",7,\"Tottenham Hotspur\")\n",
    "print(player,back_num,team)\n",
    "print(player,back_num)"
   ]
  },
  {
   "cell_type": "code",
   "execution_count": 54,
   "id": "072d52a6",
   "metadata": {},
   "outputs": [
    {
     "name": "stdout",
     "output_type": "stream",
     "text": [
      "<class 'str'>\n",
      "<class 'tuple'>\n"
     ]
    }
   ],
   "source": [
    "# 원소가 하나인 튜플 만들기\n",
    "icecream = (\"비비빅\")\n",
    "print(type(icecream))\n",
    "\n",
    "#하나의 원소 뒤에 ,를 찍어서 튜플로 유지하기\n",
    "icecream = (\"비비빅\",)\n",
    "print(type(icecream))"
   ]
  },
  {
   "cell_type": "code",
   "execution_count": 56,
   "id": "620bec8c",
   "metadata": {},
   "outputs": [
    {
     "name": "stdout",
     "output_type": "stream",
     "text": [
      "<class 'tuple'>\n",
      "(1, 2, 3, 4, 5)\n",
      "<class 'tuple'>\n",
      "('a', 'b')\n"
     ]
    }
   ],
   "source": [
    "#괄호 없이 튜플 선언하기\n",
    "num_tuple = 1,2,3,4,5\n",
    "print(type(num_tuple))\n",
    "print(num_tuple)\n",
    "\n",
    "str_tuple =\"a\",\"b\"\n",
    "print(type(str_tuple))\n",
    "print(str_tuple)"
   ]
  },
  {
   "cell_type": "code",
   "execution_count": 57,
   "id": "779eeebf",
   "metadata": {},
   "outputs": [
    {
     "name": "stdout",
     "output_type": "stream",
     "text": [
      "('에이',)\n",
      "('비',)\n",
      "<class 'tuple'>\n",
      "<class 'tuple'>\n",
      "('비',)\n",
      "('에이',)\n"
     ]
    }
   ],
   "source": [
    "#서로 다른 튜플 값 치환하기\n",
    "tuple_a = ('에이',)\n",
    "tuple_b = ('비',)\n",
    "\n",
    "print(tuple_a)\n",
    "print(tuple_b)\n",
    "\n",
    "print(type(tuple_a))\n",
    "print(type(tuple_b))\n",
    "\n",
    "tuple_a,tuple_b = tuple_b, tuple_a\n",
    "\n",
    "print(tuple_a)\n",
    "print(tuple_b)"
   ]
  },
  {
   "cell_type": "code",
   "execution_count": 58,
   "id": "1f97299f",
   "metadata": {},
   "outputs": [
    {
     "name": "stdout",
     "output_type": "stream",
     "text": [
      "{'busan', 'daejeon', 'deagu', 'kwangju', 'seoul', 'ulsan'}\n",
      "{'changwon', 'deagu', 'busan'}\n",
      "<class 'set'>\n",
      "<class 'set'>\n"
     ]
    }
   ],
   "source": [
    "# set (세트,집합) 선언 방법\n",
    "group_a = {\"seoul\",\"ulsan\",\"deagu\",\"daejeon\",\"kwangju\",\"busan\"}\n",
    "group_b = set([\"deagu\",\"busan\",\"changwon\"])\n",
    "\n",
    "print(group_a)\n",
    "print(group_b)\n",
    "\n",
    "print(type(group_a))\n",
    "print(type(group_b))"
   ]
  },
  {
   "cell_type": "code",
   "execution_count": 59,
   "id": "64a17605",
   "metadata": {},
   "outputs": [
    {
     "name": "stdout",
     "output_type": "stream",
     "text": [
      "True\n",
      "False\n"
     ]
    }
   ],
   "source": [
    "#원소 확인\n",
    "print(\"seoul\" in group_a)\n",
    "print(\"seoul\" in group_b)"
   ]
  },
  {
   "cell_type": "code",
   "execution_count": 60,
   "id": "76b6d9c5",
   "metadata": {},
   "outputs": [
    {
     "name": "stdout",
     "output_type": "stream",
     "text": [
      "{'busan', 'daejeon', 'deagu', 'kwangju', 'seoul', 'ulsan'}\n",
      "{'busan', 'daejeon', 'deagu', 'kwangju', 'seoul', 'incheon', 'ulsan'}\n",
      "{'changwon', 'deagu', 'busan'}\n",
      "{'changwon', 'kyungju', 'pohang', 'busan', 'deagu'}\n"
     ]
    }
   ],
   "source": [
    "#원소추가\n",
    "group_a = {\"seoul\",\"ulsan\",\"deagu\",\"daejeon\",\"kwangju\",\"busan\"}\n",
    "group_b = set([\"deagu\",\"busan\",\"changwon\"])\n",
    "\n",
    "print(group_a)\n",
    "group_a.add(\"incheon\")\n",
    "print(group_a)\n",
    "\n",
    "print(group_b)\n",
    "group_b.update([\"kyungju\",\"pohang\"])\n",
    "print(group_b)"
   ]
  },
  {
   "cell_type": "code",
   "execution_count": 61,
   "id": "1c297878",
   "metadata": {},
   "outputs": [
    {
     "name": "stdout",
     "output_type": "stream",
     "text": [
      "{'changwon', 'deagu', 'busan'}\n",
      "{'deagu', 'busan'}\n"
     ]
    }
   ],
   "source": [
    "#원소삭제\n",
    "group_b = set([\"deagu\",\"busan\",\"changwon\"])\n",
    "\n",
    "print(group_b)\n",
    "group_b.remove(\"changwon\")\n",
    "print(group_b)"
   ]
  },
  {
   "cell_type": "code",
   "execution_count": 62,
   "id": "9262af25",
   "metadata": {},
   "outputs": [
    {
     "name": "stdout",
     "output_type": "stream",
     "text": [
      "{'busan', 'deagu', 'kwangju', 'seoul', 'deajeon', 'ulsan'}\n",
      "<class 'set'>\n"
     ]
    }
   ],
   "source": [
    "#세트 복사\n",
    "group_a = {\"seoul\",\"ulsan\",\"deagu\",\"deajeon\",\"kwangju\",\"busan\"}\n",
    "group_c = set(group_a)\n",
    "print(group_c)\n",
    "print(type(group_c))"
   ]
  },
  {
   "cell_type": "code",
   "execution_count": 63,
   "id": "dcc87d43",
   "metadata": {},
   "outputs": [
    {
     "name": "stdout",
     "output_type": "stream",
     "text": [
      "{'busan', 'deagu', 'kwangju', 'seoul', 'deajeon', 'ulsan'}\n",
      "{'daegu', 'changwon', 'busan'}\n",
      "{'daegu', 'changwon', 'kwangju', 'deajeon', 'busan', 'deagu', 'seoul', 'ulsan'}\n",
      "{'daegu', 'changwon', 'kwangju', 'deajeon', 'busan', 'deagu', 'seoul', 'ulsan'}\n",
      "{'kwangju', 'deajeon', 'deagu', 'seoul', 'ulsan'}\n",
      "{'kwangju', 'deajeon', 'deagu', 'seoul', 'ulsan'}\n"
     ]
    }
   ],
   "source": [
    "#합집합\n",
    "group_a = {\"seoul\",\"ulsan\",\"deagu\",\"deajeon\",\"kwangju\",\"busan\"}\n",
    "group_b = set([\"daegu\",\"busan\",\"changwon\"])\n",
    "\n",
    "print(group_a)\n",
    "print(group_b)\n",
    "\n",
    "print(group_a | group_b)\n",
    "print(group_a.union(group_b))\n",
    "\n",
    "#차집합\n",
    "print(group_a - group_b)\n",
    "print(group_a.difference(group_b))"
   ]
  },
  {
   "cell_type": "code",
   "execution_count": 64,
   "id": "5dffc0f1",
   "metadata": {},
   "outputs": [
    {
     "name": "stdout",
     "output_type": "stream",
     "text": [
      "{'busan', 'deagu', 'kwangju', 'seoul', 'deajeon', 'ulsan'}\n",
      "{'changwon', 'deagu', 'busan'}\n",
      "{'changwon', 'deajeon', 'kwangju', 'seoul', 'ulsan'}\n",
      "{'changwon', 'deajeon', 'kwangju', 'seoul', 'ulsan'}\n"
     ]
    }
   ],
   "source": [
    "#대칭차집합\n",
    "group_a = {\"seoul\",\"ulsan\",\"deagu\",\"deajeon\",\"kwangju\",\"busan\"}\n",
    "group_b = set([\"deagu\",\"busan\",\"changwon\"])\n",
    "\n",
    "print(group_a)\n",
    "print(group_b)\n",
    "\n",
    "print(group_a ^ group_b)\n",
    "print(group_a.symmetric_difference(group_b))"
   ]
  },
  {
   "cell_type": "code",
   "execution_count": 65,
   "id": "1757ec82",
   "metadata": {},
   "outputs": [
    {
     "name": "stdout",
     "output_type": "stream",
     "text": [
      "180\n",
      "<class 'int'>\n",
      "180.0\n",
      "<class 'float'>\n"
     ]
    }
   ],
   "source": [
    "# 자료구조의 변경\n",
    "my_tall = 180\n",
    "print(my_tall)\n",
    "print(type(my_tall)) # type이 int로 출력\n",
    "\n",
    "my_tall = float(my_tall)\n",
    "print(my_tall)\n",
    "print(type(my_tall)) #type이 float로 출력"
   ]
  },
  {
   "cell_type": "code",
   "execution_count": 66,
   "id": "47dad4fd",
   "metadata": {},
   "outputs": [
    {
     "name": "stdout",
     "output_type": "stream",
     "text": [
      "1.0e3\n",
      "<class 'str'>\n",
      "1000.0\n",
      "<class 'float'>\n",
      "1000.0\n",
      "<class 'str'>\n"
     ]
    }
   ],
   "source": [
    "# 자료구조의 변경\n",
    "number_a = '1.0e3'\n",
    "print(number_a)\n",
    "print(type(number_a)) #type이 str로 출력\n",
    "\n",
    "number_a = float(number_a)\n",
    "print(number_a)\n",
    "print(type(number_a)) #type이 float로 출력\n",
    "\n",
    "number_a = str(number_a)\n",
    "print(number_a)\n",
    "print(type(number_a)) #type이 str로 출력"
   ]
  },
  {
   "cell_type": "code",
   "execution_count": 67,
   "id": "065ba222",
   "metadata": {},
   "outputs": [
    {
     "name": "stdout",
     "output_type": "stream",
     "text": [
      "{'골프', '당구', '축구'} <class 'set'>\n",
      "('골프', '당구', '축구') <class 'tuple'>\n"
     ]
    }
   ],
   "source": [
    "# 내 취미 set 만들기\n",
    "my_hobby = {\"골프\", \"축구\", \"당구\"}\n",
    "print(my_hobby, type(my_hobby)) #type이 set로 출력되는 것을 확인\n",
    "\n",
    "# set 자료형을 tuple 자료형으로 변경\n",
    "my_hobby = tuple(my_hobby)\n",
    "print(my_hobby, type(my_hobby))"
   ]
  },
  {
   "cell_type": "code",
   "execution_count": 68,
   "id": "4fef0953",
   "metadata": {},
   "outputs": [
    {
     "name": "stdout",
     "output_type": "stream",
     "text": [
      "안녕하세요!\n"
     ]
    }
   ],
   "source": [
    "# if 분기문의 기본 문법\n",
    "nation = \"korea\"\n",
    "\n",
    "if nation == \"korea\":\n",
    "    print(\"안녕하세요!\")\n",
    "elif nation == \"usa\":\n",
    "    print(\"hello!\")\n",
    "else:\n",
    "    print(\"none\")"
   ]
  },
  {
   "cell_type": "code",
   "execution_count": 71,
   "id": "13ddc48c",
   "metadata": {},
   "outputs": [
    {
     "name": "stdout",
     "output_type": "stream",
     "text": [
      "당신이 여행하는 나라는 어디입니까?korea\n",
      "안녕하세요!\n"
     ]
    }
   ],
   "source": [
    "nation = input(\"당신이 여행하는 나라는 어디입니까?\")\n",
    "\n",
    "if nation == \"korea\":\n",
    "    print(\"안녕하세요!\")\n",
    "elif nation == \"usa\":\n",
    "    print(\"Hello!\")\n",
    "else:\n",
    "    print(\"none\")"
   ]
  },
  {
   "cell_type": "code",
   "execution_count": 72,
   "id": "282dc4cd",
   "metadata": {},
   "outputs": [
    {
     "name": "stdout",
     "output_type": "stream",
     "text": [
      "영어 과목의 학점은? (A,B,C 중 택 1)A\n",
      "국어 과목의 학점은? (A,B,C 중 택 1)B\n",
      "영어점수 :  A  국어점수 :  B\n",
      "두과목 중 하나는 A\n"
     ]
    }
   ],
   "source": [
    "# if문 내에 논리 연산자 사용 문법\n",
    "english = input(\"영어 과목의 학점은? (A,B,C 중 택 1)\")\n",
    "korean = input(\"국어 과목의 학점은? (A,B,C 중 택 1)\")\n",
    "\n",
    "if english == \"A\" and korean == \"A\":\n",
    "    print(\"영어점수 : \", english, \" 국어점수 : \", korean)\n",
    "    print(\"두과목 모두 A\")\n",
    "elif english == \"A\" or korean == \"A\":\n",
    "    print(\"영어점수 : \", english, \" 국어점수 : \", korean)\n",
    "    print(\"두과목 중 하나는 A\")\n",
    "else:\n",
    "    print(\"영어점수 : \" , english, \" 국어점수 : \", korean)\n",
    "    print(\"두과목 모두 A 아님\")"
   ]
  },
  {
   "cell_type": "code",
   "execution_count": 73,
   "id": "a65f6925",
   "metadata": {},
   "outputs": [
    {
     "name": "stdout",
     "output_type": "stream",
     "text": [
      "B학점 입니다.\n"
     ]
    }
   ],
   "source": [
    "# if문 내에 비교연산자 사용 문법\n",
    "math=87\n",
    "\n",
    "if math == 100:\n",
    "    print(\"만점입니다!\")\n",
    "elif math >= 90:\n",
    "    print(\"A학점 입니다.\")\n",
    "elif math > 79:\n",
    "    print(\"B학점 입니다.\")\n",
    "elif math >69:\n",
    "    print(\"C학점 입니다.\")\n"
   ]
  },
  {
   "cell_type": "code",
   "execution_count": 74,
   "id": "220b8421",
   "metadata": {},
   "outputs": [
    {
     "name": "stdout",
     "output_type": "stream",
     "text": [
      "티켓번호 : 0\n",
      "티켓번호 : 1\n",
      "티켓번호 : 2\n",
      "티켓번호 : 3\n",
      "티켓번호 : 4\n"
     ]
    }
   ],
   "source": [
    "for my_ticket_no in [0,1,2,3,4]:\n",
    "    print(\"티켓번호 : {0}\" .format(my_ticket_no))"
   ]
  },
  {
   "cell_type": "code",
   "execution_count": 75,
   "id": "e9efbb27",
   "metadata": {},
   "outputs": [
    {
     "name": "stdout",
     "output_type": "stream",
     "text": [
      "티켓번호 : 0\n",
      "티켓번호 : 1\n",
      "티켓번호 : 2\n",
      "티켓번호 : 3\n",
      "티켓번호 : 4\n"
     ]
    }
   ],
   "source": [
    "for my_ticket_no in range(5) :\n",
    "    print(\"티켓번호 : {0}\" .format(my_ticket_no))"
   ]
  },
  {
   "cell_type": "code",
   "execution_count": 76,
   "id": "f5216d6e",
   "metadata": {},
   "outputs": [
    {
     "name": "stdout",
     "output_type": "stream",
     "text": [
      "티켓번호 : 1\n",
      "티켓번호 : 2\n",
      "티켓번호 : 3\n",
      "티켓번호 : 4\n",
      "티켓번호 : 5\n"
     ]
    }
   ],
   "source": [
    "for my_ticket_no in range(1,6):\n",
    "    print(\"티켓번호 : {0}\" .format(my_ticket_no))"
   ]
  },
  {
   "cell_type": "code",
   "execution_count": 77,
   "id": "2c55cefa",
   "metadata": {},
   "outputs": [
    {
     "name": "stdout",
     "output_type": "stream",
     "text": [
      "광화문, 에 도착하였습니다.\n",
      "청계천, 에 도착하였습니다.\n",
      "노량진, 에 도착하였습니다.\n",
      "국회의사당, 에 도착하였습니다.\n"
     ]
    }
   ],
   "source": [
    "place = [\"광화문\",\"청계천\",\"노량진\",\"국회의사당\"]\n",
    "for tour in place:\n",
    "    print(\"{0}, 에 도착하였습니다.\" .format(tour))"
   ]
  },
  {
   "cell_type": "code",
   "execution_count": 79,
   "id": "ba590dac",
   "metadata": {},
   "outputs": [
    {
     "name": "stdout",
     "output_type": "stream",
     "text": [
      "\n",
      "\n",
      "### 2 단 ###\n",
      "2 X 1 = 2\n",
      "2 X 2 = 4\n",
      "2 X 3 = 6\n",
      "2 X 4 = 8\n",
      "2 X 5 = 10\n",
      "2 X 6 = 12\n",
      "2 X 7 = 14\n",
      "2 X 8 = 16\n",
      "2 X 9 = 18\n",
      "\n",
      "\n",
      "### 3 단 ###\n",
      "3 X 1 = 3\n",
      "3 X 2 = 6\n",
      "3 X 3 = 9\n",
      "3 X 4 = 12\n",
      "3 X 5 = 15\n",
      "3 X 6 = 18\n",
      "3 X 7 = 21\n",
      "3 X 8 = 24\n",
      "3 X 9 = 27\n",
      "\n",
      "\n",
      "### 4 단 ###\n",
      "4 X 1 = 4\n",
      "4 X 2 = 8\n",
      "4 X 3 = 12\n",
      "4 X 4 = 16\n",
      "4 X 5 = 20\n",
      "4 X 6 = 24\n",
      "4 X 7 = 28\n",
      "4 X 8 = 32\n",
      "4 X 9 = 36\n",
      "\n",
      "\n",
      "### 5 단 ###\n",
      "5 X 1 = 5\n",
      "5 X 2 = 10\n",
      "5 X 3 = 15\n",
      "5 X 4 = 20\n",
      "5 X 5 = 25\n",
      "5 X 6 = 30\n",
      "5 X 7 = 35\n",
      "5 X 8 = 40\n",
      "5 X 9 = 45\n",
      "\n",
      "\n",
      "### 6 단 ###\n",
      "6 X 1 = 6\n",
      "6 X 2 = 12\n",
      "6 X 3 = 18\n",
      "6 X 4 = 24\n",
      "6 X 5 = 30\n",
      "6 X 6 = 36\n",
      "6 X 7 = 42\n",
      "6 X 8 = 48\n",
      "6 X 9 = 54\n",
      "\n",
      "\n",
      "### 7 단 ###\n",
      "7 X 1 = 7\n",
      "7 X 2 = 14\n",
      "7 X 3 = 21\n",
      "7 X 4 = 28\n",
      "7 X 5 = 35\n",
      "7 X 6 = 42\n",
      "7 X 7 = 49\n",
      "7 X 8 = 56\n",
      "7 X 9 = 63\n",
      "\n",
      "\n",
      "### 8 단 ###\n",
      "8 X 1 = 8\n",
      "8 X 2 = 16\n",
      "8 X 3 = 24\n",
      "8 X 4 = 32\n",
      "8 X 5 = 40\n",
      "8 X 6 = 48\n",
      "8 X 7 = 56\n",
      "8 X 8 = 64\n",
      "8 X 9 = 72\n",
      "\n",
      "\n",
      "### 9 단 ###\n",
      "9 X 1 = 9\n",
      "9 X 2 = 18\n",
      "9 X 3 = 27\n",
      "9 X 4 = 36\n",
      "9 X 5 = 45\n",
      "9 X 6 = 54\n",
      "9 X 7 = 63\n",
      "9 X 8 = 72\n",
      "9 X 9 = 81\n"
     ]
    }
   ],
   "source": [
    "for i in range(2,10): # i = 2 3 4 5 6 7 8 9\n",
    "    print(\"\\n\")\n",
    "    print(\"### {} 단 ###\" .format(i))\n",
    "    for j in range(1,10): # j = 1 2 3 4 5 6 7 8 9 \n",
    "        print(\"{} X {} = {}\" .format(i,j,j*i))"
   ]
  },
  {
   "cell_type": "code",
   "execution_count": 83,
   "id": "8d77a04d",
   "metadata": {},
   "outputs": [
    {
     "name": "stdout",
     "output_type": "stream",
     "text": [
      "Hello, world!\n",
      "Hello, world!\n",
      "Hello, world!\n",
      "Hello, world!\n",
      "Hello, world!\n",
      "Hello, world!\n",
      "Hello, world!\n",
      "Hello, world!\n",
      "Hello, world!\n",
      "Hello, world!\n"
     ]
    }
   ],
   "source": [
    "i = 0 # 초기식\n",
    "while i < 10: #while 조건식\n",
    "    print('Hello, world!') # 반복할 코드\n",
    "    i += 1 # 변화식"
   ]
  },
  {
   "cell_type": "code",
   "execution_count": 84,
   "id": "f0154d9e",
   "metadata": {},
   "outputs": [
    {
     "name": "stdout",
     "output_type": "stream",
     "text": [
      "stricky 님이 사망하였습니다. 생명은 2번 남았습니다!\n",
      "stricky 님이 사망하였습니다. 생명은 1번 남았습니다!\n",
      "stricky 님이 사망하였습니다. 생명은 0번 남았습니다!\n",
      "stricky 님 게임을 새로 시작하세요.\n"
     ]
    }
   ],
   "source": [
    "#while\n",
    "game_id = \"stricky\"\n",
    "life = 3\n",
    "\n",
    "while life > 0:\n",
    "    print(\"{0} 님이 사망하였습니다. 생명은 {1}번 남았습니다!\" .format(game_id, life-1))\n",
    "    life -=1\n",
    "    \n",
    "    if life == 0:\n",
    "        print(\"{0} 님 게임을 새로 시작하세요.\" .format(game_id))"
   ]
  },
  {
   "cell_type": "code",
   "execution_count": 85,
   "id": "e8ab3af7",
   "metadata": {},
   "outputs": [
    {
     "name": "stdout",
     "output_type": "stream",
     "text": [
      "lucky numner를 입력해보세요!\n",
      "입력하세요!1\n",
      "lucky numner를 입력해보세요!\n",
      "입력하세요!2\n",
      "lucky numner를 입력해보세요!\n",
      "입력하세요!3\n",
      "lucky numner를 입력해보세요!\n",
      "입력하세요!4\n",
      "lucky numner를 입력해보세요!\n",
      "입력하세요!5\n",
      "정답입니다!\n"
     ]
    }
   ],
   "source": [
    "# while 문을 이용한 간단한 숫자 맞추기 게임\n",
    "lucky_num = 5\n",
    "ipt_num = 0\n",
    "\n",
    "while lucky_num != ipt_num:\n",
    "    print(\"lucky numner를 입력해보세요!\")\n",
    "    ipt_num = int(input(\"입력하세요!\"))\n",
    "    \n",
    "    if lucky_num == ipt_num:\n",
    "        print(\"정답입니다!\")\n",
    "        "
   ]
  },
  {
   "cell_type": "code",
   "execution_count": 86,
   "id": "101757ec",
   "metadata": {},
   "outputs": [
    {
     "name": "stdout",
     "output_type": "stream",
     "text": [
      "0\n",
      "1\n",
      "2\n",
      "3\n",
      "4\n",
      "5\n",
      "6\n",
      "7\n",
      "8\n",
      "9\n",
      "10\n"
     ]
    }
   ],
   "source": [
    "num=0\n",
    "\n",
    "while 1:\n",
    "    print(num)\n",
    "    if num == 10:\n",
    "        break\n",
    "    num += 1"
   ]
  },
  {
   "cell_type": "code",
   "execution_count": 87,
   "id": "cb9c1c14",
   "metadata": {},
   "outputs": [
    {
     "name": "stdout",
     "output_type": "stream",
     "text": [
      "2은 짝수입니다.\n",
      "4은 짝수입니다.\n",
      "6은 짝수입니다.\n",
      "8은 짝수입니다.\n",
      "10은 짝수입니다.\n",
      "12은 짝수입니다.\n",
      "14은 짝수입니다.\n"
     ]
    }
   ],
   "source": [
    "for num in range(1,15):\n",
    "    if num%2 == 1:\n",
    "        continue\n",
    "    print(\"{0}은 짝수입니다.\" .format(num))"
   ]
  },
  {
   "cell_type": "code",
   "execution_count": 89,
   "id": "a81717e1",
   "metadata": {},
   "outputs": [
    {
     "name": "stdout",
     "output_type": "stream",
     "text": [
      "1은 홀수입니다.\n",
      "3은 홀수입니다.\n",
      "5은 홀수입니다.\n",
      "7은 홀수입니다.\n",
      "9은 홀수입니다.\n",
      "11은 홀수입니다.\n",
      "13은 홀수입니다.\n"
     ]
    }
   ],
   "source": [
    "for num in range(1,15):\n",
    "    if num%2 == 0:\n",
    "        continue\n",
    "    print(\"{0}은 홀수입니다.\" .format(num))"
   ]
  },
  {
   "cell_type": "code",
   "execution_count": 90,
   "id": "60d54da5",
   "metadata": {},
   "outputs": [
    {
     "name": "stdout",
     "output_type": "stream",
     "text": [
      "2은 짝수입니다.\n",
      "4은 짝수입니다.\n",
      "6은 짝수입니다.\n",
      "8은 짝수입니다.\n",
      "10까지만 하겠습니다.\n"
     ]
    }
   ],
   "source": [
    "for num in range(1,15):\n",
    "    if num%2 == 1:\n",
    "        continue\n",
    "    if num == 10:\n",
    "        print(\"{0}까지만 하겠습니다.\" .format(num))\n",
    "        break\n",
    "    print(\"{0}은 짝수입니다.\" .format(num))"
   ]
  },
  {
   "cell_type": "code",
   "execution_count": 91,
   "id": "7c2f8862",
   "metadata": {},
   "outputs": [
    {
     "name": "stdout",
     "output_type": "stream",
     "text": [
      "[1, 2, 3, 4, 5, 6, 7, 8, 9, 10]\n",
      "[10, 20, 30, 40, 50, 60, 70, 80, 90, 100]\n"
     ]
    }
   ],
   "source": [
    "#for문을 이용한 변수 생성 방법\n",
    "num = [1,2,3,4,5,6,7,8,9,10]\n",
    "print(num)\n",
    "\n",
    "num10 = [i*10 for i in num]\n",
    "print(num10)"
   ]
  },
  {
   "cell_type": "code",
   "execution_count": 92,
   "id": "7aa4597a",
   "metadata": {},
   "outputs": [
    {
     "name": "stdout",
     "output_type": "stream",
     "text": [
      "['Seoul', 'Busan', 'Naju', 'Onyang', 'Samchunpo']\n",
      "[5, 5, 4, 6, 9]\n",
      "['sEOUL', 'bUSAN', 'nAJU', 'oNYANG', 'sAMCHUNPO']\n"
     ]
    }
   ],
   "source": [
    "#문자열 활용\n",
    "city = [\"Seoul\", \"Busan\", \"Naju\", \"Onyang\", \"Samchunpo\"]\n",
    "print(city)\n",
    "city_len = [len(i) for i in city]\n",
    "print(city_len)\n",
    "\n",
    "city_swap = [i.swapcase() for i in city]\n",
    "print(city_swap)"
   ]
  },
  {
   "cell_type": "code",
   "execution_count": 94,
   "id": "d86d0a6f",
   "metadata": {},
   "outputs": [
    {
     "name": "stdout",
     "output_type": "stream",
     "text": [
      "이것은 새로운 함수입니다.\n"
     ]
    }
   ],
   "source": [
    "def new_fuction():\n",
    "    print(\"이것은 새로운 함수입니다.\")\n",
    "\n",
    "new_fuction()"
   ]
  },
  {
   "cell_type": "code",
   "execution_count": 95,
   "id": "bf4aacde",
   "metadata": {},
   "outputs": [
    {
     "name": "stdout",
     "output_type": "stream",
     "text": [
      "입력한 두 수의 곱셈 결과는 12입니다.\n",
      "12\n"
     ]
    }
   ],
   "source": [
    "#함수 매개변수 (파라미터)와 반환값\n",
    "#구구단 함수\n",
    "def gugu(num1, num2): #구구단\n",
    "    result = num1 * num2\n",
    "    print(\"입력한 두 수의 곱셈 결과는 {0}입니다.\" .format(result))\n",
    "    return result\n",
    "\n",
    "print(gugu(3,4))"
   ]
  },
  {
   "cell_type": "code",
   "execution_count": 98,
   "id": "ffd45456",
   "metadata": {},
   "outputs": [
    {
     "name": "stdout",
     "output_type": "stream",
     "text": [
      "고객님의 기존 포인트는 3점이며, 이번에 5점이 추가되었습니다.\n",
      "최종 적립 포인트는 8점입니다.\n",
      "8\n"
     ]
    }
   ],
   "source": [
    "#커피포인트 적립\n",
    "\n",
    "cn1120 = 3 #고객번호 cn1120의 기존 포인트는 3이다\n",
    "\n",
    "def coffee_point(cn1120, cups): #커피포인트 적립\n",
    "    sum_point = cn1120 + cups\n",
    "    print(\"고객님의 기존 포인트는 {0}점이며, 이번에 {1}점이 추가되었습니다.\" .format(cn1120, cups))\n",
    "    print(\"최종 적립 포인트는 {0}점입니다.\" .format(sum_point))\n",
    "    return sum_point\n",
    "\n",
    "print(coffee_point(cn1120,5))"
   ]
  },
  {
   "cell_type": "code",
   "execution_count": 99,
   "id": "29aa6f48",
   "metadata": {},
   "outputs": [
    {
     "name": "stdout",
     "output_type": "stream",
     "text": [
      "커피 포인트 사용이 완료되었습니다.\n",
      "잔여 포인트는 4점입니다.\n",
      "4\n"
     ]
    }
   ],
   "source": [
    "#커피포인트 사용\n",
    "#예를들어 포인트 10개가 있으면 커피 한잔이 무료!\n",
    "\n",
    "cn1121 = 14\n",
    "def coffee_point_use(cn1121):#커피포인트 사용\n",
    "    if cn1121 < 10:\n",
    "        print(\"포인트가 부족합니다.\")\n",
    "        print(\"무료커피 획득까지 {0}점이 남았습니다.\" .format(10-cn1121))\n",
    "        return cn1121\n",
    "    else:\n",
    "        cn1121 = cn1121 - 10\n",
    "        print(\"커피 포인트 사용이 완료되었습니다.\")\n",
    "        print(\"잔여 포인트는 {0}점입니다.\" .format(cn1121))\n",
    "        return cn1121\n",
    "    \n",
    "print(coffee_point_use(cn1121))"
   ]
  },
  {
   "cell_type": "code",
   "execution_count": 102,
   "id": "e652139f",
   "metadata": {},
   "outputs": [
    {
     "name": "stdout",
     "output_type": "stream",
     "text": [
      "메뉴 : 아메리카노\t가격 : 2000\t유형 : ice\n",
      "메뉴 : 라떼\t가격 : 2500\t유형 : hot\n"
     ]
    }
   ],
   "source": [
    "def coffee(menu,price=2000,type=\"ice\"):\n",
    "    print(\"메뉴 : {0}\\t가격 : {1}\\t유형 : {2}\" .format(menu,price,type))\n",
    "    \n",
    "coffee(\"아메리카노\")\n",
    "coffee(\"라떼\",2500,\"hot\")"
   ]
  },
  {
   "cell_type": "code",
   "execution_count": 103,
   "id": "168d9c9b",
   "metadata": {},
   "outputs": [
    {
     "name": "stdout",
     "output_type": "stream",
     "text": [
      "이름: 손흥민\t소속팀 : EPL토트넘\t포지션 : CF LW RW \n",
      "이름: 유상철\t소속팀 : 대한민국\t포지션 : SW CB MF FW \n"
     ]
    }
   ],
   "source": [
    "#가변인자\n",
    "def football(name,team,*position):\n",
    "    print(\"이름: {0}\\t소속팀 : {1}\\t\" .format(name,team), end=\"포지션 : \")\n",
    "    for i in position:\n",
    "        print(i,end=\" \")\n",
    "    print()\n",
    "\n",
    "football(\"손흥민\",\"EPL토트넘\",\"CF\",\"LW\",\"RW\")\n",
    "football(\"유상철\",\"대한민국\",\"SW\",\"CB\",\"MF\",\"FW\")"
   ]
  },
  {
   "cell_type": "code",
   "execution_count": 104,
   "id": "e5b777f9",
   "metadata": {},
   "outputs": [
    {
     "name": "stdout",
     "output_type": "stream",
     "text": [
      "10\n",
      "사과\n"
     ]
    }
   ],
   "source": [
    "sum = 10\n",
    "apple = \"사과\"\n",
    "\n",
    "print(sum)\n",
    "print(apple)"
   ]
  },
  {
   "cell_type": "code",
   "execution_count": 109,
   "id": "b454ba10",
   "metadata": {},
   "outputs": [
    {
     "name": "stdout",
     "output_type": "stream",
     "text": [
      "남은 생명 : 3\n",
      "남은 생명은 4개 입니다!\n",
      "남은 생명 : 3\n"
     ]
    }
   ],
   "source": [
    "#지역변수와 전역변수\n",
    "\n",
    "life = 3\n",
    "\n",
    "def game(death):\n",
    "    life = 5\n",
    "    life = life - death\n",
    "    print(\"남은 생명은 {0}개 입니다!\" .format(life))\n",
    "\n",
    "print(\"남은 생명 : {0}\" .format(life))\n",
    "game(1) #한번 죽음\n",
    "\n",
    "print(\"남은 생명 : {0}\" .format(life))"
   ]
  },
  {
   "cell_type": "code",
   "execution_count": 111,
   "id": "3136fb01",
   "metadata": {},
   "outputs": [
    {
     "name": "stdout",
     "output_type": "stream",
     "text": [
      "남은 생명 : 3\n",
      "남은 생명은 2개 입니다.\n",
      "남은 생명 : 2\n"
     ]
    }
   ],
   "source": [
    "#지역변수와 전역변수\n",
    "\n",
    "life = 3\n",
    "\n",
    "def game(death):\n",
    "    global life # 외부에서 선언한 변수를 전역변수로 씀\n",
    "    life = life - death\n",
    "    print(\"남은 생명은 {0}개 입니다.\" .format(life))\n",
    "\n",
    "print(\"남은 생명 : {0}\" .format(life))\n",
    "game(1) #한번 죽음\n",
    "\n",
    "print(\"남은 생명 : {0}\" .format(life))"
   ]
  },
  {
   "cell_type": "code",
   "execution_count": 112,
   "id": "9f7e9222",
   "metadata": {},
   "outputs": [
    {
     "name": "stdout",
     "output_type": "stream",
     "text": [
      "남은 생명 : 3\n",
      "남은 생명은 2개 입니다!\n",
      "남은 생명 : 2\n"
     ]
    }
   ],
   "source": [
    "#지역변수와 전역변수\n",
    "\n",
    "life = 3\n",
    "\n",
    "def game(life,death):\n",
    "    life = life - death\n",
    "    print(\"남은 생명은 {0}개 입니다!\" .format(life))\n",
    "    return life\n",
    "\n",
    "print(\"남은 생명 : {0}\" .format(life))\n",
    "life = game(life,1) #한번 죽음\n",
    "\n",
    "print(\"남은 생명 : {0}\" .format(life))"
   ]
  },
  {
   "cell_type": "code",
   "execution_count": 4,
   "id": "366f4dee",
   "metadata": {},
   "outputs": [
    {
     "name": "stdout",
     "output_type": "stream",
     "text": [
      "apple,potato,pear\n",
      "apple and potato and pear\n",
      "apple / potato / pear\n"
     ]
    }
   ],
   "source": [
    "print(\"apple\",\"potato\",\"pear\",sep=\",\")\n",
    "print(\"apple\",\"potato\",\"pear\",sep=\" and \")\n",
    "print(\"apple\",\"potato\",\"pear\",sep=\" / \")"
   ]
  },
  {
   "cell_type": "code",
   "execution_count": 5,
   "id": "ec3ed9f6",
   "metadata": {},
   "outputs": [
    {
     "name": "stdout",
     "output_type": "stream",
     "text": [
      "apple,potato,pear !!! "
     ]
    }
   ],
   "source": [
    "# 표준입출력 sep, end\n",
    "print(\"apple\",\"potato\",\"pear\", sep=\",\",end=\" !!! \")"
   ]
  },
  {
   "cell_type": "code",
   "execution_count": 9,
   "id": "f882beda",
   "metadata": {},
   "outputs": [
    {
     "name": "stdout",
     "output_type": "stream",
     "text": [
      "2018년 9\n",
      "2019년 16\n",
      "2020년 20\n",
      "2018년 의 총 득점은 :   9 골 입니다.\n",
      "2019년 의 총 득점은 :  16 골 입니다.\n",
      "2020년 의 총 득점은 :  20 골 입니다.\n"
     ]
    }
   ],
   "source": [
    "# for loop내 rjust, ljust\n",
    "goals = {\"2018년\":9,\"2019년\":16,\"2020년\":20}\n",
    "for year,goal in goals.items():\n",
    "    print(year,goal)\n",
    "\n",
    "for year,goal in goals.items():\n",
    "    print(year.ljust(6), str(goal).rjust(3) + \" 골 입니다.\", sep = \"의 총 득점은 : \")"
   ]
  },
  {
   "cell_type": "code",
   "execution_count": 10,
   "id": "06f508ed",
   "metadata": {},
   "outputs": [
    {
     "name": "stdout",
     "output_type": "stream",
     "text": [
      "이번 순서는 001 입니다!\n",
      "이번 순서는 002 입니다!\n",
      "이번 순서는 003 입니다!\n",
      "이번 순서는 004 입니다!\n",
      "이번 순서는 005 입니다!\n",
      "이번 순서는 006 입니다!\n",
      "이번 순서는 007 입니다!\n",
      "이번 순서는 008 입니다!\n",
      "이번 순서는 009 입니다!\n",
      "이번 순서는 010 입니다!\n",
      "이번 순서는 011 입니다!\n",
      "이번 순서는 012 입니다!\n",
      "이번 순서는 013 입니다!\n",
      "이번 순서는 014 입니다!\n",
      "이번 순서는 015 입니다!\n",
      "이번 순서는 016 입니다!\n",
      "이번 순서는 017 입니다!\n",
      "이번 순서는 018 입니다!\n",
      "이번 순서는 019 입니다!\n"
     ]
    }
   ],
   "source": [
    "for seq in range(1,20):\n",
    "    print(\"이번 순서는 \" + str(seq).zfill(3) + \" 입니다!\")"
   ]
  },
  {
   "cell_type": "code",
   "execution_count": 11,
   "id": "22fb5ae5",
   "metadata": {},
   "outputs": [
    {
     "name": "stdout",
     "output_type": "stream",
     "text": [
      "   12\n"
     ]
    }
   ],
   "source": [
    "# 총 5자리의 공간을 잡아두고 오른쪽 정렬하기\n",
    "t_num = 12\n",
    "print(\"{0:>5}\" .format(t_num))"
   ]
  },
  {
   "cell_type": "code",
   "execution_count": 12,
   "id": "a590b0df",
   "metadata": {},
   "outputs": [
    {
     "name": "stdout",
     "output_type": "stream",
     "text": [
      "  +12\n",
      "  -12\n"
     ]
    }
   ],
   "source": [
    "# 위 조건에서 양수(+), 음수(-) 표시하기\n",
    "t_num1 = 12\n",
    "t_num2 = -12\n",
    "print(\"{0: >+5}\" .format(t_num1))\n",
    "print(\"{0: >+5}\" .format(t_num2))"
   ]
  },
  {
   "cell_type": "code",
   "execution_count": 16,
   "id": "9fa97b62",
   "metadata": {},
   "outputs": [
    {
     "name": "stdout",
     "output_type": "stream",
     "text": [
      "1****\n",
      "2****\n",
      "3****\n",
      "4****\n",
      "5****\n",
      "6****\n",
      "7****\n",
      "8****\n",
      "9****\n",
      "10***\n",
      "11***\n",
      "12***\n",
      "13***\n",
      "14***\n",
      "15***\n",
      "16***\n",
      "17***\n",
      "18***\n",
      "19***\n"
     ]
    }
   ],
   "source": [
    "# 왼쪽 정렬로 변경하고, 빈칸에 * 찍기\n",
    "for seq in range(1,20):\n",
    "    print(\"{0:*<5}\".format(seq))"
   ]
  },
  {
   "cell_type": "code",
   "execution_count": 17,
   "id": "a1394105",
   "metadata": {},
   "outputs": [
    {
     "name": "stdout",
     "output_type": "stream",
     "text": [
      "12,345,678\n"
     ]
    }
   ],
   "source": [
    "# 금액표시 (세자리마다 , 표시) 하기\n",
    "price = 12345678\n",
    "print(\"{0:,}\".format(price))"
   ]
  },
  {
   "cell_type": "code",
   "execution_count": null,
   "id": "4f0ed77c",
   "metadata": {},
   "outputs": [],
   "source": []
  }
 ],
 "metadata": {
  "kernelspec": {
   "display_name": "Python 3 (ipykernel)",
   "language": "python",
   "name": "python3"
  },
  "language_info": {
   "codemirror_mode": {
    "name": "ipython",
    "version": 3
   },
   "file_extension": ".py",
   "mimetype": "text/x-python",
   "name": "python",
   "nbconvert_exporter": "python",
   "pygments_lexer": "ipython3",
   "version": "3.10.5"
  }
 },
 "nbformat": 4,
 "nbformat_minor": 5
}
